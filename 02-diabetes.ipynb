{
 "cells": [
  {
   "cell_type": "markdown",
   "metadata": {
    "colab": {},
    "colab_type": "code",
    "id": "n3lnWjvI83ix"
   },
   "source": [
    "# Pronóstico de la evolución de pacientes con diabetes"
   ]
  },
  {
   "cell_type": "markdown",
   "metadata": {},
   "source": [
    "## Descripción del problema real"
   ]
  },
  {
   "cell_type": "markdown",
   "metadata": {},
   "source": [
    "Los tratamientos médicos están basados en las expectativas de recuperación o el avance de una enfermedad para tomar decisiones. En este caso, un equipo médico desea contar con pronósticos de pacientes con diabetes para tomar decisiones sobre su tratamiento."
   ]
  },
  {
   "cell_type": "markdown",
   "metadata": {},
   "source": [
    "## Descripción del problema en términos de los datos"
   ]
  },
  {
   "cell_type": "markdown",
   "metadata": {},
   "source": [
    "Se desea determinar el progreso de la diabeteis un año hacia adelante a partir de las variables medidas para 442 pacientes. La información está almacenada en el archivo `datos/diabetes.csv`. Las variables medidas son: edad, sexo, indice de masa corporal, presión sanguinea y seis medidas de serum en la sangre. Se desea pronósticar el progreso de la enfermedad a partir de las variables dadas."
   ]
  },
  {
   "cell_type": "markdown",
   "metadata": {},
   "source": [
    "## Aproximaciones posibles"
   ]
  },
  {
   "cell_type": "markdown",
   "metadata": {},
   "source": [
    "En este caso, se desea comparar los resultados de un modelo de regresión lineal y un modelo de redes neuronales artificiales."
   ]
  },
  {
   "cell_type": "markdown",
   "metadata": {},
   "source": [
    "## Requerimientos"
   ]
  },
  {
   "cell_type": "markdown",
   "metadata": {},
   "source": [
    "Usted debe:\n",
    "\n",
    "* Determinar cuáles de las variables consideradas son relevantes para el problema.\n",
    "\n",
    "\n",
    "* Determinar si hay alguna transformación de las variables de entrada o de salida que mejore el pronóstico del modelo.\n",
    "\n",
    "\n",
    "* Construir un modelo de regresión lineal que sirva como base para construir un modelo de redes neuronales artificiales.\n",
    "\n",
    "\n",
    "\n",
    "* Construir un modelo de redes neuronales artificiales. Asimismo, debe determinar el número de neuronas en la capa o capas ocultas.\n",
    "\n",
    "\n",
    "* Utiizar una técnica como crossvalidation u otra similar para establecer la robustez del modelo."
   ]
  },
  {
   "cell_type": "markdown",
   "metadata": {},
   "source": [
    "### Imports"
   ]
  },
  {
   "cell_type": "code",
   "execution_count": 9,
   "metadata": {},
   "outputs": [],
   "source": [
    "import tensorflow as tf\n",
    "import pandas as pd\n",
    "import statsmodels.api as sm\n",
    "from sklearn.linear_model import LinearRegression as LRM\n",
    "import copy\n",
    "import matplotlib.pyplot as plt\n",
    "import sklearn.metrics as skm\n",
    "from sklearn.model_selection import train_test_split as tts\n",
    "from sklearn.model_selection import KFold as KF\n",
    "def encadenar(i,lista):\n",
    "    nlista = copy.deepcopy(lista)\n",
    "    nlista.append(i)\n",
    "    return nlista\n",
    "    "
   ]
  },
  {
   "cell_type": "markdown",
   "metadata": {},
   "source": [
    "# Algoritmo forward, para elección de variables"
   ]
  },
  {
   "cell_type": "code",
   "execution_count": 10,
   "metadata": {},
   "outputs": [],
   "source": [
    "def forward(keys, skeys, X, mseh, itera):\n",
    "    itera = itera +1\n",
    "    d = X.loc[:,'Y']\n",
    "    ikey=0\n",
    "    l = len(mseh)-1\n",
    "    if(len(skeys)==0):  \n",
    "        for i in keys:\n",
    "            x_sm = sm.add_constant(X.loc[:,i])\n",
    "            model = sm.OLS(d, x_sm)\n",
    "            results = model.fit()\n",
    "            results.summary()\n",
    "            mse = results.mse_total\n",
    "            if(mse<mseh[0][1]):\n",
    "                mseh[0] = [i,mse,ikey]\n",
    "            ikey = ikey +1\n",
    "    else:   \n",
    "        for i in keys: \n",
    "            k = encadenar(i,skeys)\n",
    "            x_sm = sm.add_constant(X.loc[:,k])\n",
    "            model = sm.OLS(d, x_sm)\n",
    "            results = model.fit()\n",
    "            results.summary()\n",
    "            mse = results.mse_total\n",
    "            if(mse<mseh[l][1] and mse<mseh[l-1][1]):\n",
    "                \n",
    "                mseh[l] = [i,mse,ikey]\n",
    "            ikey = ikey +1\n",
    "    \n",
    "           \n",
    "    skeys.append(keys.pop(mseh[l][2]))\n",
    "    if(len(keys)==0):\n",
    "        dkeys = []\n",
    "        for j in mseh:\n",
    "            if(not(j[0]=='')):\n",
    "                dkeys.append(j[0])\n",
    "        return (dkeys,mseh[l-1][1])\n",
    "    \n",
    "    mseh.append(['',100000,0])\n",
    "    return forward(keys,skeys,X,mseh, itera)\n"
   ]
  },
  {
   "cell_type": "markdown",
   "metadata": {},
   "source": [
    "# Carga de datos y ejecución de forward"
   ]
  },
  {
   "cell_type": "code",
   "execution_count": 11,
   "metadata": {},
   "outputs": [
    {
     "name": "stdout",
     "output_type": "stream",
     "text": [
      "5943.331347923785  Vars elegidas:  ['age', 'bmi', 's1', 's3', 's5']\n"
     ]
    }
   ],
   "source": [
    "\n",
    "X = pd.read_csv('./datos/diabetes.csv')\n",
    "key = []\n",
    "for i in X.keys():\n",
    "    key.append(i)\n",
    "    \n",
    "ind = 0\n",
    "key.pop(10)\n",
    "    \n",
    "(dkeys,mse) = forward(key,[], X, [['',100000,0]], 0)\n",
    "# Regresión Lineal del mejor modelo\n",
    "print(mse,\" Vars elegidas: \",dkeys)"
   ]
  },
  {
   "cell_type": "markdown",
   "metadata": {},
   "source": [
    "### Entrenamiento y evaluación del modelo elegido"
   ]
  },
  {
   "cell_type": "code",
   "execution_count": 12,
   "metadata": {},
   "outputs": [
    {
     "name": "stdout",
     "output_type": "stream",
     "text": [
      "MSE LM 3090.1574454790425\n"
     ]
    }
   ],
   "source": [
    "d = X['Y']\n",
    "X_train, X_test, Y_train, Y_test =tts( X.loc[:,dkeys], d, test_size = 0.2, random_state=101)\n",
    "lrm = LRM()\n",
    "lrm.fit(X_train,Y_train)\n",
    "Y_pred = lrm.predict(X_test)\n",
    "print(\"MSE LM\", skm.mean_squared_error(Y_test,Y_pred))\n"
   ]
  },
  {
   "cell_type": "markdown",
   "metadata": {},
   "source": [
    "### Eelección del mdelo de redes neuronales"
   ]
  },
  {
   "cell_type": "code",
   "execution_count": 13,
   "metadata": {},
   "outputs": [
    {
     "data": {
      "image/png": "[encoded data removed]",
      "text/plain": [
       "<Figure size 432x288 with 1 Axes>"
      ]
     },
     "metadata": {
      "needs_background": "light"
     },
     "output_type": "display_data"
    },
    {
     "data": {
      "image/png": "[encoded data removed]",
      "text/plain": [
       "<Figure size 432x288 with 1 Axes>"
      ]
     },
     "metadata": {
      "needs_background": "light"
     },
     "output_type": "display_data"
    }
   ],
   "source": [
    "\n",
    "edad = tf.feature_column.numeric_column('age')\n",
    "imc = tf.feature_column.numeric_column('bmi')\n",
    "s1 = tf.feature_column.numeric_column('s1')\n",
    "s3 = tf.feature_column.numeric_column('s3')\n",
    "s5 = tf.feature_column.numeric_column('s5')\n",
    "\n",
    "columnas = [edad, imc, s1, s3, s5]\n",
    "\n",
    "funcion = tf.estimator.inputs.pandas_input_fn(\n",
    "    x = X_train, \n",
    "    y= Y_train, \n",
    "    batch_size=10,\n",
    "    num_epochs=2500, \n",
    "    shuffle=True)\n",
    "\n",
    "\n",
    "\n",
    "E_train_hist = []\n",
    "E_test_hist = []\n",
    "\n",
    "cneuron = [0,100000000]\n",
    "\n",
    "pasos = 5000\n",
    "for i in range(1,20):\n",
    "    m = tf.estimator.DNNRegressor(\n",
    "        hidden_units=[i], \n",
    "        feature_columns=columnas)\n",
    "    m.train(input_fn= funcion, steps=pasos)\n",
    "    \n",
    "    test_funcion = tf.estimator.inputs.pandas_input_fn(\n",
    "        x= X_train, \n",
    "        batch_size=10, \n",
    "        num_epochs=1, \n",
    "        shuffle=False\n",
    "        )\n",
    "    \n",
    "    predicciones = []\n",
    "    \n",
    "    for j in list(m.predict(test_funcion)):\n",
    "        predicciones.append(j['predictions'])\n",
    "   \n",
    "    train_funcion = tf.estimator.inputs.pandas_input_fn(\n",
    "        x= X_test, \n",
    "        batch_size=10, \n",
    "        num_epochs=1, \n",
    "        shuffle=False\n",
    "        )\n",
    "    \n",
    "    evaluaciones = []\n",
    "    \n",
    "    for j in list(m.predict(train_funcion)):\n",
    "        evaluaciones.append(j['predictions'])\n",
    "    \n",
    "    if(skm.mean_squared_error(predicciones, Y_train)<cneuron[1]):\n",
    "        cneuron = [i,skm.mean_squared_error(predicciones, Y_train)]\n",
    "    E_train_hist.append(skm.mean_squared_error(predicciones, Y_train))\n",
    "    E_test_hist.append(skm.mean_squared_error(evaluaciones, Y_test))\n",
    "    \n",
    "plt.figure()\n",
    "plt.title(\"Errores (MSE's)\")\n",
    "plt.xlabel(\"Neuronas\")\n",
    "plt.plot(range(1,20) ,E_train_hist,  '-', color=\"red\");\n",
    "plt.plot(range(1,20) ,E_test_hist, '-', color=\"black\");\n",
    "    \n",
    "#buscamos la cantidad de capas \n",
    "capas = [[cneuron[0]],[cneuron[0],cneuron[0]],[cneuron[0],cneuron[0],cneuron[0]],[cneuron[0],cneuron[0],cneuron[0],cneuron[0]],[cneuron[0],cneuron[0],cneuron[0],cneuron[0],cneuron[0]]]\n",
    "   \n",
    "ccapas = [0,1000000000]\n",
    "E_train_hist = []\n",
    "E_test_hist = []\n",
    "for i in capas:\n",
    "    m = tf.estimator.DNNRegressor(\n",
    "        hidden_units=i, \n",
    "        feature_columns=columnas)\n",
    "    m.train(input_fn= funcion, steps=pasos)\n",
    "    \n",
    "    test_funcion = tf.estimator.inputs.pandas_input_fn(\n",
    "        x= X_train, \n",
    "        batch_size=10, \n",
    "        num_epochs=1, \n",
    "        shuffle=False\n",
    "        )\n",
    "    \n",
    "    predicciones = []\n",
    "    \n",
    "    for j in list(m.predict(test_funcion)):\n",
    "        predicciones.append(j['predictions'])\n",
    "   \n",
    "    train_funcion = tf.estimator.inputs.pandas_input_fn(\n",
    "        x= X_test, \n",
    "        batch_size=10, \n",
    "        num_epochs=1, \n",
    "        shuffle=False\n",
    "        )\n",
    "    \n",
    "    evaluaciones = []\n",
    "    \n",
    "    for j in list(m.predict(train_funcion)):\n",
    "        evaluaciones.append(j['predictions'])\n",
    "    \n",
    "    \n",
    "    E_train_hist.append(skm.mean_squared_error(predicciones, Y_train))\n",
    "    E_test_hist.append(skm.mean_squared_error(evaluaciones, Y_test))\n",
    "    \n",
    "    if(skm.mean_squared_error(predicciones, Y_train)<ccapas[1]):\n",
    "        ccapas = [i,skm.mean_squared_error(predicciones, Y_train)]\n",
    "    \n",
    "plt.figure()\n",
    "plt.title(\"Errores (MSE's)\")\n",
    "plt.xlabel(\"Capas\")\n",
    "plt.plot([1,2,3,4,5], E_train_hist,  '-', color=\"red\");\n",
    "plt.plot([1,2,3,4,5], E_test_hist, '-', color=\"black\");\n",
    "    \n"
   ]
  },
  {
   "cell_type": "markdown",
   "metadata": {},
   "source": [
    "### Entrenamiento y evaluación del modelo elegido de redes neuronales"
   ]
  },
  {
   "cell_type": "markdown",
   "metadata": {},
   "source": [
    "#### Se elige el mejor modelo"
   ]
  },
  {
   "cell_type": "code",
   "execution_count": 14,
   "metadata": {},
   "outputs": [
    {
     "data": {
      "text/plain": [
       "<matplotlib.collections.PathCollection at 0x29198269148>"
      ]
     },
     "execution_count": 14,
     "metadata": {},
     "output_type": "execute_result"
    },
    {
     "data": {
      "image/png": "[encoded data removed]",
      "text/plain": [
       "<Figure size 432x288 with 1 Axes>"
      ]
     },
     "metadata": {
      "needs_background": "light"
     },
     "output_type": "display_data"
    }
   ],
   "source": [
    "\n",
    "for i in [ccapas[0]]:\n",
    "    m = tf.estimator.DNNRegressor(\n",
    "        hidden_units=i, \n",
    "        feature_columns=columnas)\n",
    "    m.train(input_fn= funcion, steps=pasos)\n",
    "    \n",
    "    test_funcion = tf.estimator.inputs.pandas_input_fn(\n",
    "        x= X_test, \n",
    "        batch_size=10, \n",
    "        num_epochs=1, \n",
    "        shuffle=False\n",
    "        )\n",
    "    \n",
    "    predicciones = []\n",
    "    \n",
    "    for j in list(m.predict(test_funcion)):\n",
    "        predicciones.append(j['predictions'])\n",
    "   \n",
    "print(\"MSE Modelo elegido \", skm.mean_squared_error(predicciones,Y_test))       \n",
    "plt.figure()\n",
    "plt.title(\"Modelo\")\n",
    "plt.scatter(Y_test,predicciones,color=\"green\")\n",
    "\n",
    "\n"
   ]
  },
  {
   "cell_type": "markdown",
   "metadata": {},
   "source": [
    "\n",
    "## validación cruzada "
   ]
  },
  {
   "cell_type": "code",
   "execution_count": 15,
   "metadata": {},
   "outputs": [
    {
     "name": "stdout",
     "output_type": "stream",
     "text": [
      "\n",
      "MSE Validación cruzada:  10261.149212623011\n"
     ]
    }
   ],
   "source": [
    "\n",
    "def validacion(indice_entren, indice_test, X, Y, keys):\n",
    "    \n",
    "    X_train = X.iloc[indice_entren,:]\n",
    "    X_test = X.iloc[indice_test,:]\n",
    "    Y_train = Y.iloc[indice_entren]\n",
    "    Y_test = Y.iloc[indice_test]\n",
    "        \n",
    "    X_test.columns=keys\n",
    "    X_train.columns=keys\n",
    "        \n",
    "    edad = tf.feature_column.numeric_column('age')\n",
    "    imc = tf.feature_column.numeric_column('bmi')\n",
    "    s1 = tf.feature_column.numeric_column('s1')\n",
    "    s3 = tf.feature_column.numeric_column('s3')\n",
    "    s5 = tf.feature_column.numeric_column('s5')\n",
    "\n",
    "    columnas = [edad, imc, s1, s3, s5]\n",
    "    \n",
    "    funcion = tf.estimator.inputs.pandas_input_fn(\n",
    "        x = X_train, \n",
    "        y= Y_train, \n",
    "        batch_size=10,\n",
    "        num_epochs=2500, \n",
    "        shuffle=True)\n",
    "    \n",
    "    m = tf.estimator.DNNRegressor(\n",
    "        hidden_units=[3,3], \n",
    "        feature_columns=columnas)\n",
    "    m.train(input_fn= funcion, steps=pasos)\n",
    "        \n",
    "    test_funcion = tf.estimator.inputs.pandas_input_fn(\n",
    "        x= X_test, \n",
    "        batch_size=10, \n",
    "        num_epochs=1, \n",
    "        shuffle=False\n",
    "        )\n",
    "        \n",
    "    predicciones = []\n",
    "        \n",
    "    for j in list(m.predict(test_funcion)):\n",
    "        predicciones.append(j['predictions'])\n",
    "            \n",
    "    return skm.mean_squared_error(predicciones,Y_test)\n",
    "    \n",
    "kf = KF(n_splits=4)\n",
    "\n",
    "crossval = []\n",
    "X1 = X.loc[:,dkeys]\n",
    "\n",
    "for indice_entren, indice_test in kf.split(X):\n",
    "    crossval.append(validacion(indice_entren,indice_test, X1, X['Y'], dkeys))\n",
    "\n",
    "print(\"\")\n",
    "print(\"MSE Validación cruzada: \", sum(crossval)/len(crossval))    \n"
   ]
  }
 ],
 "metadata": {
  "colab": {
   "include_colab_link": true,
   "name": "Copia de Untitled3.ipynb",
   "provenance": [],
   "version": "0.3.2"
  },
  "kernelspec": {
   "display_name": "Python 3",
   "language": "python",
   "name": "python3"
  },
  "language_info": {
   "codemirror_mode": {
    "name": "ipython",
    "version": 3
   },
   "file_extension": ".py",
   "mimetype": "text/x-python",
   "name": "python",
   "nbconvert_exporter": "python",
   "pygments_lexer": "ipython3",
   "version": "3.7.6"
  }
 },
 "nbformat": 4,
 "nbformat_minor": 2
}
