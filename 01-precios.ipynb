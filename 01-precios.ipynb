{
 "cells": [
  {
   "cell_type": "markdown",
   "metadata": {
    "colab": {},
    "colab_type": "code",
    "id": "n3lnWjvI83ix"
   },
   "source": [
    "# Pronóstico adaptativo"
   ]
  },
  {
   "cell_type": "markdown",
   "metadata": {},
   "source": [
    "## Descripción del problema real"
   ]
  },
  {
   "cell_type": "markdown",
   "metadata": {},
   "source": [
    "Los pronósticos de los precios de la electricidad en mercados liberalizados son un insumo fundamental para la toma de decisiones dentro de las organizaciones. Fundamentalmente, los pronosticos de corto plazo son utilizados en decisiones de carácter operativo. En el caso abordado, es necesario contar con los pronósticos para definir la politica de operación de una empresa del sector eléctrico."
   ]
  },
  {
   "cell_type": "markdown",
   "metadata": {},
   "source": [
    "## Descripción del problema en términos de los datos"
   ]
  },
  {
   "cell_type": "markdown",
   "metadata": {},
   "source": [
    "La carpeta `datos/precios/` contiene los precios historicos horarios de la electricidad en la Bolsa de Energía del mercado eléctrico colombiano, publicados por el operador del mercado. Se desean obtener pronósticos para el precio promedio diario para los próximos siete (7) días a la fecha actual."
   ]
  },
  {
   "cell_type": "markdown",
   "metadata": {},
   "source": [
    "## Aproximaciones posibles"
   ]
  },
  {
   "cell_type": "markdown",
   "metadata": {},
   "source": [
    "En este caso, se desea evaluar la capacidad de pronóstico de un ADALINE con aprendizaje en línea."
   ]
  },
  {
   "cell_type": "markdown",
   "metadata": {},
   "source": [
    "## Requerimientos"
   ]
  },
  {
   "cell_type": "markdown",
   "metadata": {},
   "source": [
    "Usted debe:\n",
    "\n",
    "* Procesar los datos históricos para conformar el conjunto de datos. Los archivos de Excel no pueden ser modificados y actualizados directamente por el operador del sistema. Su código debe leer los archivos y crear la serie de precios promedio diarios de la electricidad.\n",
    "\n",
    "\n",
    "* Determinar si el modelo debe pronosticar los precios promedios sin ninguna transformación, o si la inclusión de una transformación (logaritmo natural, raíz cúbica, raíz cuadrada, etc) resulta en un incremento de la precisión del pronóstico.\n",
    "\n",
    "\n",
    "* Generar el pronóstico para los precios de los próximos siete días.\n",
    "\n",
    "\n",
    "* Preparar el código para que el modelo sea entrenado usando el gradiente y el momentum.\n",
    "\n",
    "\n",
    "* Determinar cuál es el número óptimo de retardos (observaciones) que el modelo debe considerar hacia atrás para producir el pronóstico.\n",
    "\n",
    "\n",
    "* Determinar los valores óptimos de la tasa de aprendizaje y el momentum.\n"
   ]
  },
  {
   "cell_type": "markdown",
   "metadata": {},
   "source": [
    "# Primero se hace la lectura de los datos"
   ]
  },
  {
   "cell_type": "code",
   "execution_count": 1,
   "metadata": {},
   "outputs": [
    {
     "name": "stderr",
     "output_type": "stream",
     "text": [
      "C:\\Users\\HP\\anaconda3\\lib\\site-packages\\tensorflow\\python\\framework\\dtypes.py:516: FutureWarning: Passing (type, 1) or '1type' as a synonym of type is deprecated; in a future version of numpy, it will be understood as (type, (1,)) / '(1,)type'.\n",
      "  _np_qint8 = np.dtype([(\"qint8\", np.int8, 1)])\n",
      "C:\\Users\\HP\\anaconda3\\lib\\site-packages\\tensorflow\\python\\framework\\dtypes.py:517: FutureWarning: Passing (type, 1) or '1type' as a synonym of type is deprecated; in a future version of numpy, it will be understood as (type, (1,)) / '(1,)type'.\n",
      "  _np_quint8 = np.dtype([(\"quint8\", np.uint8, 1)])\n",
      "C:\\Users\\HP\\anaconda3\\lib\\site-packages\\tensorflow\\python\\framework\\dtypes.py:518: FutureWarning: Passing (type, 1) or '1type' as a synonym of type is deprecated; in a future version of numpy, it will be understood as (type, (1,)) / '(1,)type'.\n",
      "  _np_qint16 = np.dtype([(\"qint16\", np.int16, 1)])\n",
      "C:\\Users\\HP\\anaconda3\\lib\\site-packages\\tensorflow\\python\\framework\\dtypes.py:519: FutureWarning: Passing (type, 1) or '1type' as a synonym of type is deprecated; in a future version of numpy, it will be understood as (type, (1,)) / '(1,)type'.\n",
      "  _np_quint16 = np.dtype([(\"quint16\", np.uint16, 1)])\n",
      "C:\\Users\\HP\\anaconda3\\lib\\site-packages\\tensorflow\\python\\framework\\dtypes.py:520: FutureWarning: Passing (type, 1) or '1type' as a synonym of type is deprecated; in a future version of numpy, it will be understood as (type, (1,)) / '(1,)type'.\n",
      "  _np_qint32 = np.dtype([(\"qint32\", np.int32, 1)])\n",
      "C:\\Users\\HP\\anaconda3\\lib\\site-packages\\tensorflow\\python\\framework\\dtypes.py:525: FutureWarning: Passing (type, 1) or '1type' as a synonym of type is deprecated; in a future version of numpy, it will be understood as (type, (1,)) / '(1,)type'.\n",
      "  np_resource = np.dtype([(\"resource\", np.ubyte, 1)])\n",
      "C:\\Users\\HP\\anaconda3\\lib\\site-packages\\tensorboard\\compat\\tensorflow_stub\\dtypes.py:541: FutureWarning: Passing (type, 1) or '1type' as a synonym of type is deprecated; in a future version of numpy, it will be understood as (type, (1,)) / '(1,)type'.\n",
      "  _np_qint8 = np.dtype([(\"qint8\", np.int8, 1)])\n",
      "C:\\Users\\HP\\anaconda3\\lib\\site-packages\\tensorboard\\compat\\tensorflow_stub\\dtypes.py:542: FutureWarning: Passing (type, 1) or '1type' as a synonym of type is deprecated; in a future version of numpy, it will be understood as (type, (1,)) / '(1,)type'.\n",
      "  _np_quint8 = np.dtype([(\"quint8\", np.uint8, 1)])\n",
      "C:\\Users\\HP\\anaconda3\\lib\\site-packages\\tensorboard\\compat\\tensorflow_stub\\dtypes.py:543: FutureWarning: Passing (type, 1) or '1type' as a synonym of type is deprecated; in a future version of numpy, it will be understood as (type, (1,)) / '(1,)type'.\n",
      "  _np_qint16 = np.dtype([(\"qint16\", np.int16, 1)])\n",
      "C:\\Users\\HP\\anaconda3\\lib\\site-packages\\tensorboard\\compat\\tensorflow_stub\\dtypes.py:544: FutureWarning: Passing (type, 1) or '1type' as a synonym of type is deprecated; in a future version of numpy, it will be understood as (type, (1,)) / '(1,)type'.\n",
      "  _np_quint16 = np.dtype([(\"quint16\", np.uint16, 1)])\n",
      "C:\\Users\\HP\\anaconda3\\lib\\site-packages\\tensorboard\\compat\\tensorflow_stub\\dtypes.py:545: FutureWarning: Passing (type, 1) or '1type' as a synonym of type is deprecated; in a future version of numpy, it will be understood as (type, (1,)) / '(1,)type'.\n",
      "  _np_qint32 = np.dtype([(\"qint32\", np.int32, 1)])\n",
      "C:\\Users\\HP\\anaconda3\\lib\\site-packages\\tensorboard\\compat\\tensorflow_stub\\dtypes.py:550: FutureWarning: Passing (type, 1) or '1type' as a synonym of type is deprecated; in a future version of numpy, it will be understood as (type, (1,)) / '(1,)type'.\n",
      "  np_resource = np.dtype([(\"resource\", np.ubyte, 1)])\n"
     ]
    }
   ],
   "source": [
    "import pandas as pd\n",
    "import numpy as np\n",
    "import tensorflow as tf\n",
    "import matplotlib.pyplot as plt\n",
    "import math\n",
    "tf.enable_eager_execution()\n",
    "\n",
    "\n",
    "años = range(1995,2016,1)\n",
    "Datos = []\n",
    "for i in años:\n",
    "    archivo_excel = pd.read_excel('./datos/precios/Precio_Bolsa_Nacional_($kwh)_'+str(i)+'.xlsx')\n",
    "    for r in range(3,archivo_excel[archivo_excel.columns[0]].size):\n",
    "        suma = 0\n",
    "        for j in range(1,25):\n",
    "            if(not(math.isnan(archivo_excel[archivo_excel.columns[j]][r]))):\n",
    "                suma = suma + archivo_excel[archivo_excel.columns[j]][r]             \n",
    "       \n",
    "        try:\n",
    "            Datos.append([archivo_excel[archivo_excel.columns[0]][r].strftime(\"%Y-%m-%d\"),suma/24])\n",
    "        except:\n",
    "            Datos.append([archivo_excel[archivo_excel.columns[0]][r],suma/24])\n",
    "            \n",
    "        \n",
    "for i in [2016, 2017, 2018]:\n",
    "    archivo_excel = pd.read_excel('./datos/precios/Precio_Bolsa_Nacional_($kwh)_'+str(i)+'.xls')\n",
    "    for r in range(3,archivo_excel[archivo_excel.columns[0]].size):\n",
    "        suma = 0\n",
    "        for j in range(1,25):\n",
    "            if(not(math.isnan(archivo_excel[archivo_excel.columns[j]][r]))):\n",
    "                suma = suma + archivo_excel[archivo_excel.columns[j]][r]   \n",
    "        try:\n",
    "            Datos.append([archivo_excel[archivo_excel.columns[0]][r].strftime(\"%Y-%m-%d\"),suma/24])\n",
    "        except:\n",
    "            Datos.append([archivo_excel[archivo_excel.columns[0]][r],suma/24])\n",
    "        \n",
    "#Se cargan los datos del IPC\n",
    "excel_ipc = pd.read_excel('./datos/precios/1.2.5.IPC_Serie_variaciones.xlsx')\n",
    "ipc_mes = []\n",
    "for i in range (12, 308):\n",
    "    ipc_mes.append([excel_ipc[excel_ipc.columns[0]][i],excel_ipc[excel_ipc.columns[1]][i]])\n",
    "\n",
    "mes = [\"07\",\"08\",\"09\",\"10\",\"11\",\"12\"]\n",
    "cmes = 0\n",
    "ipcdato=0\n",
    "ipc_mes.reverse()\n",
    "DXIPC = []\n",
    "for idato in range(0,len(Datos)):\n",
    "    dato = Datos.pop(0)\n",
    "    if(not((str(\"1995-\"+mes[cmes]) in dato[0]))):\n",
    "        ipcdato = ipcdato + 1\n",
    "        cmes = cmes + 1\n",
    "        if(cmes == 6):\n",
    "            break\n",
    "    \n",
    "    DXIPC.append((float(dato[1])*float(ipc_mes[ipcdato][1]/100)))            \n",
    "            \n",
    "años = range(1996,2019,1)\n",
    "caño = 0\n",
    "cmes2 = 0\n",
    "mes2 = [\"01\",\"02\",\"03\",\"04\",\"05\",\"06\",\"07\",\"08\",\"09\",\"10\",\"11\",\"12\"]\n",
    "for dato in Datos:\n",
    "    if(not((str(años[caño])+\"-\"+mes2[cmes2]) in dato[0])):\n",
    "        ipcdato = ipcdato + 1\n",
    "        cmes2 = cmes2 + 1\n",
    "        if(cmes2 == 12):\n",
    "            cmes2 = 0\n",
    "            caño = caño +1\n",
    "    DXIPC.append((float(dato[1])*float(ipc_mes[ipcdato][1]/100)))      \n",
    "                \n"
   ]
  },
  {
   "cell_type": "markdown",
   "metadata": {},
   "source": [
    "# Modelo en TensorFlow"
   ]
  },
  {
   "cell_type": "code",
   "execution_count": 5,
   "metadata": {},
   "outputs": [],
   "source": [
    "class Model(object):\n",
    "    def __init__(self, L):\n",
    "        self.w = tf.Variable([0.0] * (L+1))\n",
    "\n",
    "    def __call__(self, x):\n",
    "        x = tf.constant(np.array([1.0] + x, dtype=np.float32))\n",
    "        y_pred = tf.reduce_sum(tf.multiply(self.w, x))\n",
    "        return y_pred\n",
    "\n",
    "    def fit(self, mu, x, y_desired):\n",
    "        y_pred = self(x)\n",
    "        e = y_desired - y_pred\n",
    "        x = tf.constant(np.array([1.0] + x, dtype=np.float32))\n",
    "        self.w.assign_add(tf.scalar_mul(2 * mu * e, x))"
   ]
  },
  {
   "cell_type": "markdown",
   "metadata": {},
   "source": [
    "# Se definen las transformaciones a los datos"
   ]
  },
  {
   "cell_type": "code",
   "execution_count": 3,
   "metadata": {},
   "outputs": [],
   "source": [
    "l = len(DXIPC)\n",
    "maxd = max(DXIPC)\n",
    "mind = min(DXIPC)\n",
    "rmm = maxd-mind\n",
    "#Normalización\n",
    "nxipc = []\n",
    "#Cuadraro\n",
    "c2ipc = []\n",
    "#Raíz\n",
    "r2ipc = []\n",
    "#Logaritmo\n",
    "lnipc = []\n",
    "for i in range(l):\n",
    "    nxipc.append((maxd - DXIPC[i])/rmm)\n",
    "    c2ipc.append(DXIPC[i]**2)\n",
    "    r2ipc.append(math.sqrt(DXIPC[i]))\n",
    "    lnipc.append(math.log(DXIPC[i]))\n",
    "\n",
    "\n",
    "datasets = [nxipc,c2ipc,r2ipc,lnipc]\n",
    "def denormalize(x):\n",
    "    return ((-rmm*x)/maxd)"
   ]
  },
  {
   "cell_type": "markdown",
   "metadata": {},
   "source": [
    "# Se eligen la tasa de aprendizaje, rezagos y transformación"
   ]
  },
  {
   "cell_type": "code",
   "execution_count": 6,
   "metadata": {},
   "outputs": [
    {
     "name": "stdout",
     "output_type": "stream",
     "text": [
      "[14, 0.01, <tf.Tensor: id=13318967, shape=(), dtype=float32, numpy=2601888.8>, 0]\n"
     ]
    }
   ],
   "source": [
    "minperr = [0,0,float('inf'),-1]\n",
    "for D in [0,2,3]:\n",
    "    for L in range(7,15):\n",
    "        deseados = datasets[D][:len(datasets[D])-L]\n",
    "        y_pred = np.empty(len(deseados))\n",
    "        y_pred[:] = np.nan\n",
    "        \n",
    "        for mu in np.arange(0.01, 0.1, 0.01):\n",
    "            model = Model(L)\n",
    "            errorst = 0\n",
    "            \n",
    "            for t in range(L, len(deseados)):\n",
    "                x = deseados[t-L:t]\n",
    "                mx = model(x)\n",
    "                if(D==0):\n",
    "                    errorst = errorst + ((denormalize(-rmm*deseados[t])-denormalize(mx))**2)\n",
    "                elif(D==1):\n",
    "                    p1= math.sqrt(deseados[t])\n",
    "                    p2= math.sqrt(abs(mx))\n",
    "                    errorst = errorst + ((p1-p2)**2)\n",
    "                elif(D==2):\n",
    "                    errorst = errorst + (((deseados[t]**2)-(mx**2))**2)\n",
    "                elif(D==3):\n",
    "                    try:\n",
    "                        errorst = errorst + ((math.exp(deseados[t])-math.exp(mx))**2)\n",
    "                    except:\n",
    "                        errorst = errorst\n",
    "                        \n",
    "                model.fit(mu=mu, x=x, y_desired=deseados[t])\n",
    "            promact = [L,mu,errorst/l,D]\n",
    "            \n",
    "            if(promact[2]<minperr[2]):\n",
    "                minperr=promact\n",
    "             \n",
    "        \n",
    "            \n",
    "    \n",
    "print(minperr)\n",
    "k = 0"
   ]
  },
  {
   "cell_type": "markdown",
   "metadata": {},
   "source": [
    "# Se entrena el mejor modelo"
   ]
  },
  {
   "cell_type": "code",
   "execution_count": 9,
   "metadata": {},
   "outputs": [
    {
     "data": {
      "image/png": "[encoded data removed]",
      "text/plain": [
       "<Figure size 1008x216 with 1 Axes>"
      ]
     },
     "metadata": {
      "needs_background": "light"
     },
     "output_type": "display_data"
    }
   ],
   "source": [
    "\n",
    "deseados = datasets[minperr[3]][:len(datasets[minperr[3]])-minperr[0]]\n",
    "y_pred = np.empty(len(deseados))\n",
    "y_pred[:] = np.nan\n",
    "\n",
    "desden = []\n",
    "model = Model(minperr[0])\n",
    "for i in deseados:\n",
    "    desden.append(denormalize(i))\n",
    "\n",
    "for t in range(minperr[0], len(deseados)):\n",
    "    x = deseados[t-L:t]\n",
    "    mx = model(x)\n",
    "    y_pred[t] = denormalize(mx)\n",
    "    model.fit(minperr[1], x=x, y_desired=deseados[t])\n",
    "            \n",
    "\n",
    "plt.figure(figsize=(14,3))\n",
    "plt.plot(desden, color='black');\n",
    "plt.plot(y_pred, color = 'red');\n",
    "\n",
    "test = datasets[minperr[3]][len(datasets[minperr[3]])-3*minperr[0]:]\n",
    "for u in range(minperr[0], len(test)):\n",
    "    k = k+1\n",
    "    x = test[u-minperr[0]:u]\n",
    "    mx = model(x)\n",
    "    "
   ]
  },
  {
   "cell_type": "markdown",
   "metadata": {},
   "source": [
    "# Se predice con el modelo previamente entrenado"
   ]
  },
  {
   "cell_type": "code",
   "execution_count": 8,
   "metadata": {},
   "outputs": [
    {
     "name": "stdout",
     "output_type": "stream",
     "text": [
      "Predicción>  tf.Tensor(0.95187557, shape=(), dtype=float32)\n",
      "Predicción>  tf.Tensor(0.9515618, shape=(), dtype=float32)\n",
      "Predicción>  tf.Tensor(0.9525547, shape=(), dtype=float32)\n",
      "Predicción>  tf.Tensor(0.95412207, shape=(), dtype=float32)\n",
      "Predicción>  tf.Tensor(0.9556645, shape=(), dtype=float32)\n",
      "Predicción>  tf.Tensor(0.9568597, shape=(), dtype=float32)\n",
      "Predicción>  tf.Tensor(0.95786214, shape=(), dtype=float32)\n"
     ]
    }
   ],
   "source": [
    "prediccion = datasets[minperr[3]][len(datasets[minperr[3]])-14:]\n",
    "\n",
    "\n",
    "for e in range(7):\n",
    "    x = prediccion[e:]\n",
    "    mx = model(x)\n",
    "    prediccion.append(mx)\n",
    "    print(\"Predicción> \",mx)"
   ]
  }
 ],
 "metadata": {
  "colab": {
   "include_colab_link": true,
   "name": "Copia de Untitled3.ipynb",
   "provenance": [],
   "version": "0.3.2"
  },
  "kernelspec": {
   "display_name": "Python 3",
   "language": "python",
   "name": "python3"
  },
  "language_info": {
   "codemirror_mode": {
    "name": "ipython",
    "version": 3
   },
   "file_extension": ".py",
   "mimetype": "text/x-python",
   "name": "python",
   "nbconvert_exporter": "python",
   "pygments_lexer": "ipython3",
   "version": "3.7.6"
  }
 },
 "nbformat": 4,
 "nbformat_minor": 2
}
